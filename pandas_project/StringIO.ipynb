{
 "cells": [
  {
   "cell_type": "code",
   "execution_count": null,
   "id": "78dea91a",
   "metadata": {},
   "outputs": [],
   "source": [
    "import pandas as pd  # type: ignore\n",
    "import numpy as np  # type: ignore\n",
    "from io import StringIO\n",
    "\n",
    "df = pd.read_csv(\"mercedesbenz.csv\",usecols=['X0','X1','X2','X3'])\n",
    "print(type(df))\n",
    "\n",
    "date = (\"col1,col2,col3\\n\"\n",
    "        \"a,b,2\\n\"\n",
    "        \"x,y,1\\n\"\n",
    "        \"c,d,0\")\n",
    "\n",
    "Data = StringIO(date)\n",
    "print(Data)\n",
    "Data_ = pd.read_csv(Data)\n",
    "print(Data_)\n",
    "print(\"                                             \")\n",
    "print(\"       *******************************\")\n",
    "print(\"-------------------------------------------\")\n",
    "print(\"       *******************************\")\n",
    "print(\"                                             \")\n",
    "print(df.head(10))\n",
    "df.to_csv(\"test.csv\",index=False)\n",
    "\n",
    "print(pd.read_csv(\"test.csv\").head(10))"
   ]
  }
 ],
 "metadata": {
  "language_info": {
   "name": "python"
  }
 },
 "nbformat": 4,
 "nbformat_minor": 5
}
